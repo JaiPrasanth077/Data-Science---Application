{
  "nbformat": 4,
  "nbformat_minor": 0,
  "metadata": {
    "colab": {
      "provenance": []
    },
    "kernelspec": {
      "name": "python3",
      "display_name": "Python 3"
    },
    "language_info": {
      "name": "python"
    }
  },
  "cells": [
    {
      "cell_type": "code",
      "execution_count": 17,
      "metadata": {
        "id": "tJWlTvCmSGeB"
      },
      "outputs": [],
      "source": [
        "import pandas as pd\n",
        "import numpy as np\n",
        "import matplotlib.pyplot as plt\n",
        "import seaborn as sns\n",
        "import scipy.stats as st"
      ]
    },
    {
      "cell_type": "code",
      "source": [
        "df = pd.read_csv('/content/USvideos.csv')"
      ],
      "metadata": {
        "id": "mnK7XMSpS8CA"
      },
      "execution_count": 18,
      "outputs": []
    },
    {
      "cell_type": "code",
      "source": [
        "df.sample(5)"
      ],
      "metadata": {
        "colab": {
          "base_uri": "https://localhost:8080/",
          "height": 1000
        },
        "id": "kYUZ_a_nXMrH",
        "outputId": "e5be5ab3-64eb-4eb6-c540-fca68d76f0d2"
      },
      "execution_count": 16,
      "outputs": [
        {
          "output_type": "execute_result",
          "data": {
            "text/plain": [
              "          video_id trending_date  \\\n",
              "26427  PFH046Fh3ps      18.28.03   \n",
              "21696  YFHHGETsxkE      18.04.03   \n",
              "12125  gsVgqms1slE      18.15.01   \n",
              "3156   07bTt0BTi-U      17.29.11   \n",
              "12664  pqzopUurZPc      18.18.01   \n",
              "\n",
              "                                                   title       channel_title  \\\n",
              "26427  Impulse | Official Teaser Trailer - YouTube Or...             Impulse   \n",
              "21696     PAPERS, PLEASE - The Short Film (2018) 4K SUBS    Никита Ордынский   \n",
              "12125         Rag'n'Bone Man - Die Easy (Official Video)     RagnBoneManVEVO   \n",
              "3156   Glowing Speaker iPhone Mod! See Your Music in ...  EverythingApplePro   \n",
              "12664                   Fox and Owl Face Off || ViralHog            ViralHog   \n",
              "\n",
              "       category_id              publish_time  \\\n",
              "26427         24.0  2018-03-22T17:00:08.000Z   \n",
              "21696          1.0  2018-02-24T15:59:25.000Z   \n",
              "12125         10.0  2018-01-11T08:00:01.000Z   \n",
              "3156          24.0  2017-11-23T02:12:48.000Z   \n",
              "12664         15.0  2018-01-15T18:13:26.000Z   \n",
              "\n",
              "                                                    tags      views     likes  \\\n",
              "26427  Impulse|\"Impulse Series\"|\"Drama\"|\"Science Fict...   919003.0   11408.0   \n",
              "21696  кино|\"короткий метр\"|\"короткометражка\"|\"short ...  1640547.0  154756.0   \n",
              "12125  Alternative/Indie|\"Columbia\"|\"Die Easy\"|\"Rag'n...   249079.0   12018.0   \n",
              "3156   iPhone Mod|\"Glowing Speaker Mod\"|\"Glowing\"|\"Sp...   715905.0   22634.0   \n",
              "12664  2018|\"Animals\"|\"birds\"|\"Cool\"|\"Dogs\"|\"Featured...   187679.0    1417.0   \n",
              "\n",
              "       dislikes  comment_count  \\\n",
              "26427    1361.0         1510.0   \n",
              "21696    1174.0         9109.0   \n",
              "12125     271.0          599.0   \n",
              "3156      739.0         3225.0   \n",
              "12664     149.0          335.0   \n",
              "\n",
              "                                       thumbnail_link comments_disabled  \\\n",
              "26427  https://i.ytimg.com/vi/PFH046Fh3ps/default.jpg             False   \n",
              "21696  https://i.ytimg.com/vi/YFHHGETsxkE/default.jpg             False   \n",
              "12125  https://i.ytimg.com/vi/gsVgqms1slE/default.jpg             False   \n",
              "3156   https://i.ytimg.com/vi/07bTt0BTi-U/default.jpg             False   \n",
              "12664  https://i.ytimg.com/vi/pqzopUurZPc/default.jpg             False   \n",
              "\n",
              "      ratings_disabled video_error_or_removed  \\\n",
              "26427            False                  False   \n",
              "21696            False                  False   \n",
              "12125            False                  False   \n",
              "3156             False                  False   \n",
              "12664            False                  False   \n",
              "\n",
              "                                             description  \n",
              "26427  In the upcoming YouTube Red Original Drama Ser...  \n",
              "21696  SUBTITLES AVAILABLE (EN, RU, CS, DA, DE, EL, E...  \n",
              "12125  Music video by Rag'n'Bone Man performing Die E...  \n",
              "3156   NEW $5 Glowing Speaker Mod For iPhone 7/7 Plus...  \n",
              "12664  Occurred on: January 4, 2018 / Cobourg, Ontari...  "
            ],
            "text/html": [
              "\n",
              "  <div id=\"df-e1ee1d8d-f511-4b69-afd3-50af160bc47c\">\n",
              "    <div class=\"colab-df-container\">\n",
              "      <div>\n",
              "<style scoped>\n",
              "    .dataframe tbody tr th:only-of-type {\n",
              "        vertical-align: middle;\n",
              "    }\n",
              "\n",
              "    .dataframe tbody tr th {\n",
              "        vertical-align: top;\n",
              "    }\n",
              "\n",
              "    .dataframe thead th {\n",
              "        text-align: right;\n",
              "    }\n",
              "</style>\n",
              "<table border=\"1\" class=\"dataframe\">\n",
              "  <thead>\n",
              "    <tr style=\"text-align: right;\">\n",
              "      <th></th>\n",
              "      <th>video_id</th>\n",
              "      <th>trending_date</th>\n",
              "      <th>title</th>\n",
              "      <th>channel_title</th>\n",
              "      <th>category_id</th>\n",
              "      <th>publish_time</th>\n",
              "      <th>tags</th>\n",
              "      <th>views</th>\n",
              "      <th>likes</th>\n",
              "      <th>dislikes</th>\n",
              "      <th>comment_count</th>\n",
              "      <th>thumbnail_link</th>\n",
              "      <th>comments_disabled</th>\n",
              "      <th>ratings_disabled</th>\n",
              "      <th>video_error_or_removed</th>\n",
              "      <th>description</th>\n",
              "    </tr>\n",
              "  </thead>\n",
              "  <tbody>\n",
              "    <tr>\n",
              "      <th>26427</th>\n",
              "      <td>PFH046Fh3ps</td>\n",
              "      <td>18.28.03</td>\n",
              "      <td>Impulse | Official Teaser Trailer - YouTube Or...</td>\n",
              "      <td>Impulse</td>\n",
              "      <td>24.0</td>\n",
              "      <td>2018-03-22T17:00:08.000Z</td>\n",
              "      <td>Impulse|\"Impulse Series\"|\"Drama\"|\"Science Fict...</td>\n",
              "      <td>919003.0</td>\n",
              "      <td>11408.0</td>\n",
              "      <td>1361.0</td>\n",
              "      <td>1510.0</td>\n",
              "      <td>https://i.ytimg.com/vi/PFH046Fh3ps/default.jpg</td>\n",
              "      <td>False</td>\n",
              "      <td>False</td>\n",
              "      <td>False</td>\n",
              "      <td>In the upcoming YouTube Red Original Drama Ser...</td>\n",
              "    </tr>\n",
              "    <tr>\n",
              "      <th>21696</th>\n",
              "      <td>YFHHGETsxkE</td>\n",
              "      <td>18.04.03</td>\n",
              "      <td>PAPERS, PLEASE - The Short Film (2018) 4K SUBS</td>\n",
              "      <td>Никита Ордынский</td>\n",
              "      <td>1.0</td>\n",
              "      <td>2018-02-24T15:59:25.000Z</td>\n",
              "      <td>кино|\"короткий метр\"|\"короткометражка\"|\"short ...</td>\n",
              "      <td>1640547.0</td>\n",
              "      <td>154756.0</td>\n",
              "      <td>1174.0</td>\n",
              "      <td>9109.0</td>\n",
              "      <td>https://i.ytimg.com/vi/YFHHGETsxkE/default.jpg</td>\n",
              "      <td>False</td>\n",
              "      <td>False</td>\n",
              "      <td>False</td>\n",
              "      <td>SUBTITLES AVAILABLE (EN, RU, CS, DA, DE, EL, E...</td>\n",
              "    </tr>\n",
              "    <tr>\n",
              "      <th>12125</th>\n",
              "      <td>gsVgqms1slE</td>\n",
              "      <td>18.15.01</td>\n",
              "      <td>Rag'n'Bone Man - Die Easy (Official Video)</td>\n",
              "      <td>RagnBoneManVEVO</td>\n",
              "      <td>10.0</td>\n",
              "      <td>2018-01-11T08:00:01.000Z</td>\n",
              "      <td>Alternative/Indie|\"Columbia\"|\"Die Easy\"|\"Rag'n...</td>\n",
              "      <td>249079.0</td>\n",
              "      <td>12018.0</td>\n",
              "      <td>271.0</td>\n",
              "      <td>599.0</td>\n",
              "      <td>https://i.ytimg.com/vi/gsVgqms1slE/default.jpg</td>\n",
              "      <td>False</td>\n",
              "      <td>False</td>\n",
              "      <td>False</td>\n",
              "      <td>Music video by Rag'n'Bone Man performing Die E...</td>\n",
              "    </tr>\n",
              "    <tr>\n",
              "      <th>3156</th>\n",
              "      <td>07bTt0BTi-U</td>\n",
              "      <td>17.29.11</td>\n",
              "      <td>Glowing Speaker iPhone Mod! See Your Music in ...</td>\n",
              "      <td>EverythingApplePro</td>\n",
              "      <td>24.0</td>\n",
              "      <td>2017-11-23T02:12:48.000Z</td>\n",
              "      <td>iPhone Mod|\"Glowing Speaker Mod\"|\"Glowing\"|\"Sp...</td>\n",
              "      <td>715905.0</td>\n",
              "      <td>22634.0</td>\n",
              "      <td>739.0</td>\n",
              "      <td>3225.0</td>\n",
              "      <td>https://i.ytimg.com/vi/07bTt0BTi-U/default.jpg</td>\n",
              "      <td>False</td>\n",
              "      <td>False</td>\n",
              "      <td>False</td>\n",
              "      <td>NEW $5 Glowing Speaker Mod For iPhone 7/7 Plus...</td>\n",
              "    </tr>\n",
              "    <tr>\n",
              "      <th>12664</th>\n",
              "      <td>pqzopUurZPc</td>\n",
              "      <td>18.18.01</td>\n",
              "      <td>Fox and Owl Face Off || ViralHog</td>\n",
              "      <td>ViralHog</td>\n",
              "      <td>15.0</td>\n",
              "      <td>2018-01-15T18:13:26.000Z</td>\n",
              "      <td>2018|\"Animals\"|\"birds\"|\"Cool\"|\"Dogs\"|\"Featured...</td>\n",
              "      <td>187679.0</td>\n",
              "      <td>1417.0</td>\n",
              "      <td>149.0</td>\n",
              "      <td>335.0</td>\n",
              "      <td>https://i.ytimg.com/vi/pqzopUurZPc/default.jpg</td>\n",
              "      <td>False</td>\n",
              "      <td>False</td>\n",
              "      <td>False</td>\n",
              "      <td>Occurred on: January 4, 2018 / Cobourg, Ontari...</td>\n",
              "    </tr>\n",
              "  </tbody>\n",
              "</table>\n",
              "</div>\n",
              "      <button class=\"colab-df-convert\" onclick=\"convertToInteractive('df-e1ee1d8d-f511-4b69-afd3-50af160bc47c')\"\n",
              "              title=\"Convert this dataframe to an interactive table.\"\n",
              "              style=\"display:none;\">\n",
              "        \n",
              "  <svg xmlns=\"http://www.w3.org/2000/svg\" height=\"24px\"viewBox=\"0 0 24 24\"\n",
              "       width=\"24px\">\n",
              "    <path d=\"M0 0h24v24H0V0z\" fill=\"none\"/>\n",
              "    <path d=\"M18.56 5.44l.94 2.06.94-2.06 2.06-.94-2.06-.94-.94-2.06-.94 2.06-2.06.94zm-11 1L8.5 8.5l.94-2.06 2.06-.94-2.06-.94L8.5 2.5l-.94 2.06-2.06.94zm10 10l.94 2.06.94-2.06 2.06-.94-2.06-.94-.94-2.06-.94 2.06-2.06.94z\"/><path d=\"M17.41 7.96l-1.37-1.37c-.4-.4-.92-.59-1.43-.59-.52 0-1.04.2-1.43.59L10.3 9.45l-7.72 7.72c-.78.78-.78 2.05 0 2.83L4 21.41c.39.39.9.59 1.41.59.51 0 1.02-.2 1.41-.59l7.78-7.78 2.81-2.81c.8-.78.8-2.07 0-2.86zM5.41 20L4 18.59l7.72-7.72 1.47 1.35L5.41 20z\"/>\n",
              "  </svg>\n",
              "      </button>\n",
              "      \n",
              "  <style>\n",
              "    .colab-df-container {\n",
              "      display:flex;\n",
              "      flex-wrap:wrap;\n",
              "      gap: 12px;\n",
              "    }\n",
              "\n",
              "    .colab-df-convert {\n",
              "      background-color: #E8F0FE;\n",
              "      border: none;\n",
              "      border-radius: 50%;\n",
              "      cursor: pointer;\n",
              "      display: none;\n",
              "      fill: #1967D2;\n",
              "      height: 32px;\n",
              "      padding: 0 0 0 0;\n",
              "      width: 32px;\n",
              "    }\n",
              "\n",
              "    .colab-df-convert:hover {\n",
              "      background-color: #E2EBFA;\n",
              "      box-shadow: 0px 1px 2px rgba(60, 64, 67, 0.3), 0px 1px 3px 1px rgba(60, 64, 67, 0.15);\n",
              "      fill: #174EA6;\n",
              "    }\n",
              "\n",
              "    [theme=dark] .colab-df-convert {\n",
              "      background-color: #3B4455;\n",
              "      fill: #D2E3FC;\n",
              "    }\n",
              "\n",
              "    [theme=dark] .colab-df-convert:hover {\n",
              "      background-color: #434B5C;\n",
              "      box-shadow: 0px 1px 3px 1px rgba(0, 0, 0, 0.15);\n",
              "      filter: drop-shadow(0px 1px 2px rgba(0, 0, 0, 0.3));\n",
              "      fill: #FFFFFF;\n",
              "    }\n",
              "  </style>\n",
              "\n",
              "      <script>\n",
              "        const buttonEl =\n",
              "          document.querySelector('#df-e1ee1d8d-f511-4b69-afd3-50af160bc47c button.colab-df-convert');\n",
              "        buttonEl.style.display =\n",
              "          google.colab.kernel.accessAllowed ? 'block' : 'none';\n",
              "\n",
              "        async function convertToInteractive(key) {\n",
              "          const element = document.querySelector('#df-e1ee1d8d-f511-4b69-afd3-50af160bc47c');\n",
              "          const dataTable =\n",
              "            await google.colab.kernel.invokeFunction('convertToInteractive',\n",
              "                                                     [key], {});\n",
              "          if (!dataTable) return;\n",
              "\n",
              "          const docLinkHtml = 'Like what you see? Visit the ' +\n",
              "            '<a target=\"_blank\" href=https://colab.research.google.com/notebooks/data_table.ipynb>data table notebook</a>'\n",
              "            + ' to learn more about interactive tables.';\n",
              "          element.innerHTML = '';\n",
              "          dataTable['output_type'] = 'display_data';\n",
              "          await google.colab.output.renderOutput(dataTable, element);\n",
              "          const docLink = document.createElement('div');\n",
              "          docLink.innerHTML = docLinkHtml;\n",
              "          element.appendChild(docLink);\n",
              "        }\n",
              "      </script>\n",
              "    </div>\n",
              "  </div>\n",
              "  "
            ]
          },
          "metadata": {},
          "execution_count": 15
        },
        {
          "output_type": "execute_result",
          "data": {
            "text/plain": [
              "          video_id trending_date  \\\n",
              "2707   XcUiOyKclOI      17.27.11   \n",
              "17564  odHhIVjDgq8      18.11.02   \n",
              "27980  bc5BnTYRgx8      18.05.04   \n",
              "16500  qmxMAdV6s4U      18.06.02   \n",
              "1811   89PKbJ2NAqc      17.23.11   \n",
              "\n",
              "                                                   title  \\\n",
              "2707   Kelly Clarkson - Miss Independent / Love So So...   \n",
              "17564       My dogs thought on the current howl chain...   \n",
              "27980                           $10 Vegan vs. $135 Vegan   \n",
              "16500                      GAME NIGHT - Official Trailer   \n",
              "1811            Maroon 5 Busks in NYC Subway in Disguise   \n",
              "\n",
              "                                channel_title  category_id  \\\n",
              "2707                           Kelly Clarkson         10.0   \n",
              "17564                            Chris Turner         15.0   \n",
              "27980                           BuzzFeedVideo         22.0   \n",
              "16500                   Warner Bros. Pictures         24.0   \n",
              "1811   The Tonight Show Starring Jimmy Fallon         23.0   \n",
              "\n",
              "                   publish_time  \\\n",
              "2707   2017-11-21T15:56:31.000Z   \n",
              "17564  2018-02-04T12:27:29.000Z   \n",
              "27980  2018-04-01T15:00:44.000Z   \n",
              "16500  2018-02-01T17:00:24.000Z   \n",
              "1811   2017-11-22T04:47:15.000Z   \n",
              "\n",
              "                                                    tags      views     likes  \\\n",
              "2707   Kelly Clarkson|\"Meaning of Life\"|\"Love So Soft...   107273.0    4197.0   \n",
              "17564                                             [none]   505444.0    8218.0   \n",
              "27980  BuzzFeed|\"BuzzFeedVideo\"|\"BuzzFeed Video\"|\"Vid...  4489200.0  112278.0   \n",
              "16500  game night|\"game night movie\"|\"warner bros\"|\"w...  2178547.0    3354.0   \n",
              "1811   The Tonight Show|\"Jimmy Fallon\"|\"Subway Buskin...  1134859.0   21876.0   \n",
              "\n",
              "       dislikes  comment_count  \\\n",
              "2707       37.0          286.0   \n",
              "17564     220.0          515.0   \n",
              "27980    5270.0        16234.0   \n",
              "16500     118.0          305.0   \n",
              "1811      391.0         1067.0   \n",
              "\n",
              "                                       thumbnail_link comments_disabled  \\\n",
              "2707   https://i.ytimg.com/vi/XcUiOyKclOI/default.jpg             False   \n",
              "17564  https://i.ytimg.com/vi/odHhIVjDgq8/default.jpg             False   \n",
              "27980  https://i.ytimg.com/vi/bc5BnTYRgx8/default.jpg             False   \n",
              "16500  https://i.ytimg.com/vi/qmxMAdV6s4U/default.jpg             False   \n",
              "1811   https://i.ytimg.com/vi/89PKbJ2NAqc/default.jpg             False   \n",
              "\n",
              "      ratings_disabled video_error_or_removed  \\\n",
              "2707             False                  False   \n",
              "17564            False                  False   \n",
              "27980            False                  False   \n",
              "16500            False                  False   \n",
              "1811             False                  False   \n",
              "\n",
              "                                             description  \n",
              "2707   MEANING OF LIFE available now: https://Atlanti...  \n",
              "17564  Interested in using this video? Email me: ctur...  \n",
              "27980  I'm sorry, I just stole your mom.\\n[Edit] We m...  \n",
              "16500  In Theaters February 23, 2018\\n--\\nhttp://Game...  \n",
              "1811   Jimmy and Maroon 5 put on disguises and give a...  "
            ],
            "text/html": [
              "\n",
              "  <div id=\"df-9fd713eb-5e73-4db8-8eab-b83590d32027\">\n",
              "    <div class=\"colab-df-container\">\n",
              "      <div>\n",
              "<style scoped>\n",
              "    .dataframe tbody tr th:only-of-type {\n",
              "        vertical-align: middle;\n",
              "    }\n",
              "\n",
              "    .dataframe tbody tr th {\n",
              "        vertical-align: top;\n",
              "    }\n",
              "\n",
              "    .dataframe thead th {\n",
              "        text-align: right;\n",
              "    }\n",
              "</style>\n",
              "<table border=\"1\" class=\"dataframe\">\n",
              "  <thead>\n",
              "    <tr style=\"text-align: right;\">\n",
              "      <th></th>\n",
              "      <th>video_id</th>\n",
              "      <th>trending_date</th>\n",
              "      <th>title</th>\n",
              "      <th>channel_title</th>\n",
              "      <th>category_id</th>\n",
              "      <th>publish_time</th>\n",
              "      <th>tags</th>\n",
              "      <th>views</th>\n",
              "      <th>likes</th>\n",
              "      <th>dislikes</th>\n",
              "      <th>comment_count</th>\n",
              "      <th>thumbnail_link</th>\n",
              "      <th>comments_disabled</th>\n",
              "      <th>ratings_disabled</th>\n",
              "      <th>video_error_or_removed</th>\n",
              "      <th>description</th>\n",
              "    </tr>\n",
              "  </thead>\n",
              "  <tbody>\n",
              "    <tr>\n",
              "      <th>2707</th>\n",
              "      <td>XcUiOyKclOI</td>\n",
              "      <td>17.27.11</td>\n",
              "      <td>Kelly Clarkson - Miss Independent / Love So So...</td>\n",
              "      <td>Kelly Clarkson</td>\n",
              "      <td>10.0</td>\n",
              "      <td>2017-11-21T15:56:31.000Z</td>\n",
              "      <td>Kelly Clarkson|\"Meaning of Life\"|\"Love So Soft...</td>\n",
              "      <td>107273.0</td>\n",
              "      <td>4197.0</td>\n",
              "      <td>37.0</td>\n",
              "      <td>286.0</td>\n",
              "      <td>https://i.ytimg.com/vi/XcUiOyKclOI/default.jpg</td>\n",
              "      <td>False</td>\n",
              "      <td>False</td>\n",
              "      <td>False</td>\n",
              "      <td>MEANING OF LIFE available now: https://Atlanti...</td>\n",
              "    </tr>\n",
              "    <tr>\n",
              "      <th>17564</th>\n",
              "      <td>odHhIVjDgq8</td>\n",
              "      <td>18.11.02</td>\n",
              "      <td>My dogs thought on the current howl chain...</td>\n",
              "      <td>Chris Turner</td>\n",
              "      <td>15.0</td>\n",
              "      <td>2018-02-04T12:27:29.000Z</td>\n",
              "      <td>[none]</td>\n",
              "      <td>505444.0</td>\n",
              "      <td>8218.0</td>\n",
              "      <td>220.0</td>\n",
              "      <td>515.0</td>\n",
              "      <td>https://i.ytimg.com/vi/odHhIVjDgq8/default.jpg</td>\n",
              "      <td>False</td>\n",
              "      <td>False</td>\n",
              "      <td>False</td>\n",
              "      <td>Interested in using this video? Email me: ctur...</td>\n",
              "    </tr>\n",
              "    <tr>\n",
              "      <th>27980</th>\n",
              "      <td>bc5BnTYRgx8</td>\n",
              "      <td>18.05.04</td>\n",
              "      <td>$10 Vegan vs. $135 Vegan</td>\n",
              "      <td>BuzzFeedVideo</td>\n",
              "      <td>22.0</td>\n",
              "      <td>2018-04-01T15:00:44.000Z</td>\n",
              "      <td>BuzzFeed|\"BuzzFeedVideo\"|\"BuzzFeed Video\"|\"Vid...</td>\n",
              "      <td>4489200.0</td>\n",
              "      <td>112278.0</td>\n",
              "      <td>5270.0</td>\n",
              "      <td>16234.0</td>\n",
              "      <td>https://i.ytimg.com/vi/bc5BnTYRgx8/default.jpg</td>\n",
              "      <td>False</td>\n",
              "      <td>False</td>\n",
              "      <td>False</td>\n",
              "      <td>I'm sorry, I just stole your mom.\\n[Edit] We m...</td>\n",
              "    </tr>\n",
              "    <tr>\n",
              "      <th>16500</th>\n",
              "      <td>qmxMAdV6s4U</td>\n",
              "      <td>18.06.02</td>\n",
              "      <td>GAME NIGHT - Official Trailer</td>\n",
              "      <td>Warner Bros. Pictures</td>\n",
              "      <td>24.0</td>\n",
              "      <td>2018-02-01T17:00:24.000Z</td>\n",
              "      <td>game night|\"game night movie\"|\"warner bros\"|\"w...</td>\n",
              "      <td>2178547.0</td>\n",
              "      <td>3354.0</td>\n",
              "      <td>118.0</td>\n",
              "      <td>305.0</td>\n",
              "      <td>https://i.ytimg.com/vi/qmxMAdV6s4U/default.jpg</td>\n",
              "      <td>False</td>\n",
              "      <td>False</td>\n",
              "      <td>False</td>\n",
              "      <td>In Theaters February 23, 2018\\n--\\nhttp://Game...</td>\n",
              "    </tr>\n",
              "    <tr>\n",
              "      <th>1811</th>\n",
              "      <td>89PKbJ2NAqc</td>\n",
              "      <td>17.23.11</td>\n",
              "      <td>Maroon 5 Busks in NYC Subway in Disguise</td>\n",
              "      <td>The Tonight Show Starring Jimmy Fallon</td>\n",
              "      <td>23.0</td>\n",
              "      <td>2017-11-22T04:47:15.000Z</td>\n",
              "      <td>The Tonight Show|\"Jimmy Fallon\"|\"Subway Buskin...</td>\n",
              "      <td>1134859.0</td>\n",
              "      <td>21876.0</td>\n",
              "      <td>391.0</td>\n",
              "      <td>1067.0</td>\n",
              "      <td>https://i.ytimg.com/vi/89PKbJ2NAqc/default.jpg</td>\n",
              "      <td>False</td>\n",
              "      <td>False</td>\n",
              "      <td>False</td>\n",
              "      <td>Jimmy and Maroon 5 put on disguises and give a...</td>\n",
              "    </tr>\n",
              "  </tbody>\n",
              "</table>\n",
              "</div>\n",
              "      <button class=\"colab-df-convert\" onclick=\"convertToInteractive('df-9fd713eb-5e73-4db8-8eab-b83590d32027')\"\n",
              "              title=\"Convert this dataframe to an interactive table.\"\n",
              "              style=\"display:none;\">\n",
              "        \n",
              "  <svg xmlns=\"http://www.w3.org/2000/svg\" height=\"24px\"viewBox=\"0 0 24 24\"\n",
              "       width=\"24px\">\n",
              "    <path d=\"M0 0h24v24H0V0z\" fill=\"none\"/>\n",
              "    <path d=\"M18.56 5.44l.94 2.06.94-2.06 2.06-.94-2.06-.94-.94-2.06-.94 2.06-2.06.94zm-11 1L8.5 8.5l.94-2.06 2.06-.94-2.06-.94L8.5 2.5l-.94 2.06-2.06.94zm10 10l.94 2.06.94-2.06 2.06-.94-2.06-.94-.94-2.06-.94 2.06-2.06.94z\"/><path d=\"M17.41 7.96l-1.37-1.37c-.4-.4-.92-.59-1.43-.59-.52 0-1.04.2-1.43.59L10.3 9.45l-7.72 7.72c-.78.78-.78 2.05 0 2.83L4 21.41c.39.39.9.59 1.41.59.51 0 1.02-.2 1.41-.59l7.78-7.78 2.81-2.81c.8-.78.8-2.07 0-2.86zM5.41 20L4 18.59l7.72-7.72 1.47 1.35L5.41 20z\"/>\n",
              "  </svg>\n",
              "      </button>\n",
              "      \n",
              "  <style>\n",
              "    .colab-df-container {\n",
              "      display:flex;\n",
              "      flex-wrap:wrap;\n",
              "      gap: 12px;\n",
              "    }\n",
              "\n",
              "    .colab-df-convert {\n",
              "      background-color: #E8F0FE;\n",
              "      border: none;\n",
              "      border-radius: 50%;\n",
              "      cursor: pointer;\n",
              "      display: none;\n",
              "      fill: #1967D2;\n",
              "      height: 32px;\n",
              "      padding: 0 0 0 0;\n",
              "      width: 32px;\n",
              "    }\n",
              "\n",
              "    .colab-df-convert:hover {\n",
              "      background-color: #E2EBFA;\n",
              "      box-shadow: 0px 1px 2px rgba(60, 64, 67, 0.3), 0px 1px 3px 1px rgba(60, 64, 67, 0.15);\n",
              "      fill: #174EA6;\n",
              "    }\n",
              "\n",
              "    [theme=dark] .colab-df-convert {\n",
              "      background-color: #3B4455;\n",
              "      fill: #D2E3FC;\n",
              "    }\n",
              "\n",
              "    [theme=dark] .colab-df-convert:hover {\n",
              "      background-color: #434B5C;\n",
              "      box-shadow: 0px 1px 3px 1px rgba(0, 0, 0, 0.15);\n",
              "      filter: drop-shadow(0px 1px 2px rgba(0, 0, 0, 0.3));\n",
              "      fill: #FFFFFF;\n",
              "    }\n",
              "  </style>\n",
              "\n",
              "      <script>\n",
              "        const buttonEl =\n",
              "          document.querySelector('#df-9fd713eb-5e73-4db8-8eab-b83590d32027 button.colab-df-convert');\n",
              "        buttonEl.style.display =\n",
              "          google.colab.kernel.accessAllowed ? 'block' : 'none';\n",
              "\n",
              "        async function convertToInteractive(key) {\n",
              "          const element = document.querySelector('#df-9fd713eb-5e73-4db8-8eab-b83590d32027');\n",
              "          const dataTable =\n",
              "            await google.colab.kernel.invokeFunction('convertToInteractive',\n",
              "                                                     [key], {});\n",
              "          if (!dataTable) return;\n",
              "\n",
              "          const docLinkHtml = 'Like what you see? Visit the ' +\n",
              "            '<a target=\"_blank\" href=https://colab.research.google.com/notebooks/data_table.ipynb>data table notebook</a>'\n",
              "            + ' to learn more about interactive tables.';\n",
              "          element.innerHTML = '';\n",
              "          dataTable['output_type'] = 'display_data';\n",
              "          await google.colab.output.renderOutput(dataTable, element);\n",
              "          const docLink = document.createElement('div');\n",
              "          docLink.innerHTML = docLinkHtml;\n",
              "          element.appendChild(docLink);\n",
              "        }\n",
              "      </script>\n",
              "    </div>\n",
              "  </div>\n",
              "  "
            ]
          },
          "metadata": {},
          "execution_count": 16
        }
      ]
    },
    {
      "cell_type": "code",
      "source": [
        "df.describe()"
      ],
      "metadata": {
        "colab": {
          "base_uri": "https://localhost:8080/",
          "height": 300
        },
        "id": "swImreY5XoaL",
        "outputId": "10c1ca5f-d598-4fba-cfb4-3ba7836c2e8a"
      },
      "execution_count": 19,
      "outputs": [
        {
          "output_type": "execute_result",
          "data": {
            "text/plain": [
              "        category_id         views         likes      dislikes  comment_count\n",
              "count  28264.000000  2.826400e+04  2.826400e+04  2.826400e+04   2.826400e+04\n",
              "mean      20.147538  1.436790e+06  4.955343e+04  2.775819e+03   6.119422e+03\n",
              "std        7.509573  4.393726e+06  1.515289e+05  3.250574e+04   3.094451e+04\n",
              "min        1.000000  5.490000e+02  0.000000e+00  0.000000e+00   0.000000e+00\n",
              "25%       17.000000  1.525328e+05  3.244750e+03  1.330000e+02   4.100000e+02\n",
              "50%       24.000000  4.361480e+05  1.214400e+04  4.210000e+02   1.303000e+03\n",
              "75%       25.000000  1.222300e+06  3.623700e+04  1.336000e+03   3.896000e+03\n",
              "max       43.000000  1.493761e+08  3.093544e+06  1.674420e+06   1.361580e+06"
            ],
            "text/html": [
              "\n",
              "  <div id=\"df-1b0755b8-2984-4c7b-8de2-e42357b235de\">\n",
              "    <div class=\"colab-df-container\">\n",
              "      <div>\n",
              "<style scoped>\n",
              "    .dataframe tbody tr th:only-of-type {\n",
              "        vertical-align: middle;\n",
              "    }\n",
              "\n",
              "    .dataframe tbody tr th {\n",
              "        vertical-align: top;\n",
              "    }\n",
              "\n",
              "    .dataframe thead th {\n",
              "        text-align: right;\n",
              "    }\n",
              "</style>\n",
              "<table border=\"1\" class=\"dataframe\">\n",
              "  <thead>\n",
              "    <tr style=\"text-align: right;\">\n",
              "      <th></th>\n",
              "      <th>category_id</th>\n",
              "      <th>views</th>\n",
              "      <th>likes</th>\n",
              "      <th>dislikes</th>\n",
              "      <th>comment_count</th>\n",
              "    </tr>\n",
              "  </thead>\n",
              "  <tbody>\n",
              "    <tr>\n",
              "      <th>count</th>\n",
              "      <td>28264.000000</td>\n",
              "      <td>2.826400e+04</td>\n",
              "      <td>2.826400e+04</td>\n",
              "      <td>2.826400e+04</td>\n",
              "      <td>2.826400e+04</td>\n",
              "    </tr>\n",
              "    <tr>\n",
              "      <th>mean</th>\n",
              "      <td>20.147538</td>\n",
              "      <td>1.436790e+06</td>\n",
              "      <td>4.955343e+04</td>\n",
              "      <td>2.775819e+03</td>\n",
              "      <td>6.119422e+03</td>\n",
              "    </tr>\n",
              "    <tr>\n",
              "      <th>std</th>\n",
              "      <td>7.509573</td>\n",
              "      <td>4.393726e+06</td>\n",
              "      <td>1.515289e+05</td>\n",
              "      <td>3.250574e+04</td>\n",
              "      <td>3.094451e+04</td>\n",
              "    </tr>\n",
              "    <tr>\n",
              "      <th>min</th>\n",
              "      <td>1.000000</td>\n",
              "      <td>5.490000e+02</td>\n",
              "      <td>0.000000e+00</td>\n",
              "      <td>0.000000e+00</td>\n",
              "      <td>0.000000e+00</td>\n",
              "    </tr>\n",
              "    <tr>\n",
              "      <th>25%</th>\n",
              "      <td>17.000000</td>\n",
              "      <td>1.525328e+05</td>\n",
              "      <td>3.244750e+03</td>\n",
              "      <td>1.330000e+02</td>\n",
              "      <td>4.100000e+02</td>\n",
              "    </tr>\n",
              "    <tr>\n",
              "      <th>50%</th>\n",
              "      <td>24.000000</td>\n",
              "      <td>4.361480e+05</td>\n",
              "      <td>1.214400e+04</td>\n",
              "      <td>4.210000e+02</td>\n",
              "      <td>1.303000e+03</td>\n",
              "    </tr>\n",
              "    <tr>\n",
              "      <th>75%</th>\n",
              "      <td>25.000000</td>\n",
              "      <td>1.222300e+06</td>\n",
              "      <td>3.623700e+04</td>\n",
              "      <td>1.336000e+03</td>\n",
              "      <td>3.896000e+03</td>\n",
              "    </tr>\n",
              "    <tr>\n",
              "      <th>max</th>\n",
              "      <td>43.000000</td>\n",
              "      <td>1.493761e+08</td>\n",
              "      <td>3.093544e+06</td>\n",
              "      <td>1.674420e+06</td>\n",
              "      <td>1.361580e+06</td>\n",
              "    </tr>\n",
              "  </tbody>\n",
              "</table>\n",
              "</div>\n",
              "      <button class=\"colab-df-convert\" onclick=\"convertToInteractive('df-1b0755b8-2984-4c7b-8de2-e42357b235de')\"\n",
              "              title=\"Convert this dataframe to an interactive table.\"\n",
              "              style=\"display:none;\">\n",
              "        \n",
              "  <svg xmlns=\"http://www.w3.org/2000/svg\" height=\"24px\"viewBox=\"0 0 24 24\"\n",
              "       width=\"24px\">\n",
              "    <path d=\"M0 0h24v24H0V0z\" fill=\"none\"/>\n",
              "    <path d=\"M18.56 5.44l.94 2.06.94-2.06 2.06-.94-2.06-.94-.94-2.06-.94 2.06-2.06.94zm-11 1L8.5 8.5l.94-2.06 2.06-.94-2.06-.94L8.5 2.5l-.94 2.06-2.06.94zm10 10l.94 2.06.94-2.06 2.06-.94-2.06-.94-.94-2.06-.94 2.06-2.06.94z\"/><path d=\"M17.41 7.96l-1.37-1.37c-.4-.4-.92-.59-1.43-.59-.52 0-1.04.2-1.43.59L10.3 9.45l-7.72 7.72c-.78.78-.78 2.05 0 2.83L4 21.41c.39.39.9.59 1.41.59.51 0 1.02-.2 1.41-.59l7.78-7.78 2.81-2.81c.8-.78.8-2.07 0-2.86zM5.41 20L4 18.59l7.72-7.72 1.47 1.35L5.41 20z\"/>\n",
              "  </svg>\n",
              "      </button>\n",
              "      \n",
              "  <style>\n",
              "    .colab-df-container {\n",
              "      display:flex;\n",
              "      flex-wrap:wrap;\n",
              "      gap: 12px;\n",
              "    }\n",
              "\n",
              "    .colab-df-convert {\n",
              "      background-color: #E8F0FE;\n",
              "      border: none;\n",
              "      border-radius: 50%;\n",
              "      cursor: pointer;\n",
              "      display: none;\n",
              "      fill: #1967D2;\n",
              "      height: 32px;\n",
              "      padding: 0 0 0 0;\n",
              "      width: 32px;\n",
              "    }\n",
              "\n",
              "    .colab-df-convert:hover {\n",
              "      background-color: #E2EBFA;\n",
              "      box-shadow: 0px 1px 2px rgba(60, 64, 67, 0.3), 0px 1px 3px 1px rgba(60, 64, 67, 0.15);\n",
              "      fill: #174EA6;\n",
              "    }\n",
              "\n",
              "    [theme=dark] .colab-df-convert {\n",
              "      background-color: #3B4455;\n",
              "      fill: #D2E3FC;\n",
              "    }\n",
              "\n",
              "    [theme=dark] .colab-df-convert:hover {\n",
              "      background-color: #434B5C;\n",
              "      box-shadow: 0px 1px 3px 1px rgba(0, 0, 0, 0.15);\n",
              "      filter: drop-shadow(0px 1px 2px rgba(0, 0, 0, 0.3));\n",
              "      fill: #FFFFFF;\n",
              "    }\n",
              "  </style>\n",
              "\n",
              "      <script>\n",
              "        const buttonEl =\n",
              "          document.querySelector('#df-1b0755b8-2984-4c7b-8de2-e42357b235de button.colab-df-convert');\n",
              "        buttonEl.style.display =\n",
              "          google.colab.kernel.accessAllowed ? 'block' : 'none';\n",
              "\n",
              "        async function convertToInteractive(key) {\n",
              "          const element = document.querySelector('#df-1b0755b8-2984-4c7b-8de2-e42357b235de');\n",
              "          const dataTable =\n",
              "            await google.colab.kernel.invokeFunction('convertToInteractive',\n",
              "                                                     [key], {});\n",
              "          if (!dataTable) return;\n",
              "\n",
              "          const docLinkHtml = 'Like what you see? Visit the ' +\n",
              "            '<a target=\"_blank\" href=https://colab.research.google.com/notebooks/data_table.ipynb>data table notebook</a>'\n",
              "            + ' to learn more about interactive tables.';\n",
              "          element.innerHTML = '';\n",
              "          dataTable['output_type'] = 'display_data';\n",
              "          await google.colab.output.renderOutput(dataTable, element);\n",
              "          const docLink = document.createElement('div');\n",
              "          docLink.innerHTML = docLinkHtml;\n",
              "          element.appendChild(docLink);\n",
              "        }\n",
              "      </script>\n",
              "    </div>\n",
              "  </div>\n",
              "  "
            ]
          },
          "metadata": {},
          "execution_count": 19
        }
      ]
    },
    {
      "cell_type": "code",
      "source": [
        "df.info()"
      ],
      "metadata": {
        "colab": {
          "base_uri": "https://localhost:8080/"
        },
        "id": "yGXQaCv4YL0q",
        "outputId": "45257eb8-7f71-468f-801e-529d6e6e948e"
      },
      "execution_count": 20,
      "outputs": [
        {
          "output_type": "stream",
          "name": "stdout",
          "text": [
            "<class 'pandas.core.frame.DataFrame'>\n",
            "RangeIndex: 28265 entries, 0 to 28264\n",
            "Data columns (total 16 columns):\n",
            " #   Column                  Non-Null Count  Dtype  \n",
            "---  ------                  --------------  -----  \n",
            " 0   video_id                28265 non-null  object \n",
            " 1   trending_date           28265 non-null  object \n",
            " 2   title                   28265 non-null  object \n",
            " 3   channel_title           28264 non-null  object \n",
            " 4   category_id             28264 non-null  float64\n",
            " 5   publish_time            28264 non-null  object \n",
            " 6   tags                    28264 non-null  object \n",
            " 7   views                   28264 non-null  float64\n",
            " 8   likes                   28264 non-null  float64\n",
            " 9   dislikes                28264 non-null  float64\n",
            " 10  comment_count           28264 non-null  float64\n",
            " 11  thumbnail_link          28264 non-null  object \n",
            " 12  comments_disabled       28264 non-null  object \n",
            " 13  ratings_disabled        28264 non-null  object \n",
            " 14  video_error_or_removed  28264 non-null  object \n",
            " 15  description             27804 non-null  object \n",
            "dtypes: float64(5), object(11)\n",
            "memory usage: 3.5+ MB\n"
          ]
        }
      ]
    },
    {
      "cell_type": "code",
      "source": [
        "df.corr()"
      ],
      "metadata": {
        "colab": {
          "base_uri": "https://localhost:8080/",
          "height": 206
        },
        "id": "ra16BlHHYOki",
        "outputId": "46140c3a-474c-4d03-e9be-07ada006af7e"
      },
      "execution_count": 22,
      "outputs": [
        {
          "output_type": "execute_result",
          "data": {
            "text/plain": [
              "               category_id     views     likes  dislikes  comment_count\n",
              "category_id       1.000000 -0.129944 -0.139000 -0.004758      -0.038655\n",
              "views            -0.129944  1.000000  0.801189  0.486559       0.570639\n",
              "likes            -0.139000  0.801189  1.000000  0.433872       0.726626\n",
              "dislikes         -0.004758  0.486559  0.433872  1.000000       0.805844\n",
              "comment_count    -0.038655  0.570639  0.726626  0.805844       1.000000"
            ],
            "text/html": [
              "\n",
              "  <div id=\"df-9d881c2c-3213-4810-a18d-af63d9e26a9d\">\n",
              "    <div class=\"colab-df-container\">\n",
              "      <div>\n",
              "<style scoped>\n",
              "    .dataframe tbody tr th:only-of-type {\n",
              "        vertical-align: middle;\n",
              "    }\n",
              "\n",
              "    .dataframe tbody tr th {\n",
              "        vertical-align: top;\n",
              "    }\n",
              "\n",
              "    .dataframe thead th {\n",
              "        text-align: right;\n",
              "    }\n",
              "</style>\n",
              "<table border=\"1\" class=\"dataframe\">\n",
              "  <thead>\n",
              "    <tr style=\"text-align: right;\">\n",
              "      <th></th>\n",
              "      <th>category_id</th>\n",
              "      <th>views</th>\n",
              "      <th>likes</th>\n",
              "      <th>dislikes</th>\n",
              "      <th>comment_count</th>\n",
              "    </tr>\n",
              "  </thead>\n",
              "  <tbody>\n",
              "    <tr>\n",
              "      <th>category_id</th>\n",
              "      <td>1.000000</td>\n",
              "      <td>-0.129944</td>\n",
              "      <td>-0.139000</td>\n",
              "      <td>-0.004758</td>\n",
              "      <td>-0.038655</td>\n",
              "    </tr>\n",
              "    <tr>\n",
              "      <th>views</th>\n",
              "      <td>-0.129944</td>\n",
              "      <td>1.000000</td>\n",
              "      <td>0.801189</td>\n",
              "      <td>0.486559</td>\n",
              "      <td>0.570639</td>\n",
              "    </tr>\n",
              "    <tr>\n",
              "      <th>likes</th>\n",
              "      <td>-0.139000</td>\n",
              "      <td>0.801189</td>\n",
              "      <td>1.000000</td>\n",
              "      <td>0.433872</td>\n",
              "      <td>0.726626</td>\n",
              "    </tr>\n",
              "    <tr>\n",
              "      <th>dislikes</th>\n",
              "      <td>-0.004758</td>\n",
              "      <td>0.486559</td>\n",
              "      <td>0.433872</td>\n",
              "      <td>1.000000</td>\n",
              "      <td>0.805844</td>\n",
              "    </tr>\n",
              "    <tr>\n",
              "      <th>comment_count</th>\n",
              "      <td>-0.038655</td>\n",
              "      <td>0.570639</td>\n",
              "      <td>0.726626</td>\n",
              "      <td>0.805844</td>\n",
              "      <td>1.000000</td>\n",
              "    </tr>\n",
              "  </tbody>\n",
              "</table>\n",
              "</div>\n",
              "      <button class=\"colab-df-convert\" onclick=\"convertToInteractive('df-9d881c2c-3213-4810-a18d-af63d9e26a9d')\"\n",
              "              title=\"Convert this dataframe to an interactive table.\"\n",
              "              style=\"display:none;\">\n",
              "        \n",
              "  <svg xmlns=\"http://www.w3.org/2000/svg\" height=\"24px\"viewBox=\"0 0 24 24\"\n",
              "       width=\"24px\">\n",
              "    <path d=\"M0 0h24v24H0V0z\" fill=\"none\"/>\n",
              "    <path d=\"M18.56 5.44l.94 2.06.94-2.06 2.06-.94-2.06-.94-.94-2.06-.94 2.06-2.06.94zm-11 1L8.5 8.5l.94-2.06 2.06-.94-2.06-.94L8.5 2.5l-.94 2.06-2.06.94zm10 10l.94 2.06.94-2.06 2.06-.94-2.06-.94-.94-2.06-.94 2.06-2.06.94z\"/><path d=\"M17.41 7.96l-1.37-1.37c-.4-.4-.92-.59-1.43-.59-.52 0-1.04.2-1.43.59L10.3 9.45l-7.72 7.72c-.78.78-.78 2.05 0 2.83L4 21.41c.39.39.9.59 1.41.59.51 0 1.02-.2 1.41-.59l7.78-7.78 2.81-2.81c.8-.78.8-2.07 0-2.86zM5.41 20L4 18.59l7.72-7.72 1.47 1.35L5.41 20z\"/>\n",
              "  </svg>\n",
              "      </button>\n",
              "      \n",
              "  <style>\n",
              "    .colab-df-container {\n",
              "      display:flex;\n",
              "      flex-wrap:wrap;\n",
              "      gap: 12px;\n",
              "    }\n",
              "\n",
              "    .colab-df-convert {\n",
              "      background-color: #E8F0FE;\n",
              "      border: none;\n",
              "      border-radius: 50%;\n",
              "      cursor: pointer;\n",
              "      display: none;\n",
              "      fill: #1967D2;\n",
              "      height: 32px;\n",
              "      padding: 0 0 0 0;\n",
              "      width: 32px;\n",
              "    }\n",
              "\n",
              "    .colab-df-convert:hover {\n",
              "      background-color: #E2EBFA;\n",
              "      box-shadow: 0px 1px 2px rgba(60, 64, 67, 0.3), 0px 1px 3px 1px rgba(60, 64, 67, 0.15);\n",
              "      fill: #174EA6;\n",
              "    }\n",
              "\n",
              "    [theme=dark] .colab-df-convert {\n",
              "      background-color: #3B4455;\n",
              "      fill: #D2E3FC;\n",
              "    }\n",
              "\n",
              "    [theme=dark] .colab-df-convert:hover {\n",
              "      background-color: #434B5C;\n",
              "      box-shadow: 0px 1px 3px 1px rgba(0, 0, 0, 0.15);\n",
              "      filter: drop-shadow(0px 1px 2px rgba(0, 0, 0, 0.3));\n",
              "      fill: #FFFFFF;\n",
              "    }\n",
              "  </style>\n",
              "\n",
              "      <script>\n",
              "        const buttonEl =\n",
              "          document.querySelector('#df-9d881c2c-3213-4810-a18d-af63d9e26a9d button.colab-df-convert');\n",
              "        buttonEl.style.display =\n",
              "          google.colab.kernel.accessAllowed ? 'block' : 'none';\n",
              "\n",
              "        async function convertToInteractive(key) {\n",
              "          const element = document.querySelector('#df-9d881c2c-3213-4810-a18d-af63d9e26a9d');\n",
              "          const dataTable =\n",
              "            await google.colab.kernel.invokeFunction('convertToInteractive',\n",
              "                                                     [key], {});\n",
              "          if (!dataTable) return;\n",
              "\n",
              "          const docLinkHtml = 'Like what you see? Visit the ' +\n",
              "            '<a target=\"_blank\" href=https://colab.research.google.com/notebooks/data_table.ipynb>data table notebook</a>'\n",
              "            + ' to learn more about interactive tables.';\n",
              "          element.innerHTML = '';\n",
              "          dataTable['output_type'] = 'display_data';\n",
              "          await google.colab.output.renderOutput(dataTable, element);\n",
              "          const docLink = document.createElement('div');\n",
              "          docLink.innerHTML = docLinkHtml;\n",
              "          element.appendChild(docLink);\n",
              "        }\n",
              "      </script>\n",
              "    </div>\n",
              "  </div>\n",
              "  "
            ]
          },
          "metadata": {},
          "execution_count": 22
        }
      ]
    },
    {
      "cell_type": "code",
      "source": [
        "#HYPOTHETICAL TESTING :\n",
        "#Z-TEST"
      ],
      "metadata": {
        "id": "0rgQGtE4d1kV"
      },
      "execution_count": null,
      "outputs": []
    },
    {
      "cell_type": "code",
      "source": [
        "x =df['likes'][df['trending_date']=='17.14.11'].mean()\n",
        "x"
      ],
      "metadata": {
        "colab": {
          "base_uri": "https://localhost:8080/"
        },
        "id": "XPztQJvKd863",
        "outputId": "f1024e75-45aa-4ae1-dbe9-3c4b5bc2dca3"
      },
      "execution_count": 25,
      "outputs": [
        {
          "output_type": "execute_result",
          "data": {
            "text/plain": [
              "38188.175"
            ]
          },
          "metadata": {},
          "execution_count": 25
        }
      ]
    },
    {
      "cell_type": "code",
      "source": [
        "z = df['likes'][df['trending_date']=='17.14.11']\n",
        "sample = z.sample(50)\n",
        "a = sample.mean()\n",
        "a"
      ],
      "metadata": {
        "colab": {
          "base_uri": "https://localhost:8080/"
        },
        "id": "KYRvy7HfeAuv",
        "outputId": "d572dfbd-97a1-4a00-846e-4a969f3485df"
      },
      "execution_count": 26,
      "outputs": [
        {
          "output_type": "execute_result",
          "data": {
            "text/plain": [
              "51496.06"
            ]
          },
          "metadata": {},
          "execution_count": 26
        }
      ]
    },
    {
      "cell_type": "code",
      "source": [
        "y =df['likes'][df['trending_date']=='17.14.11'].std()\n",
        "y"
      ],
      "metadata": {
        "colab": {
          "base_uri": "https://localhost:8080/"
        },
        "id": "92V-PWU_eCWI",
        "outputId": "f3cce533-6ace-4a69-db5a-512393b4ec53"
      },
      "execution_count": 27,
      "outputs": [
        {
          "output_type": "execute_result",
          "data": {
            "text/plain": [
              "143979.9233833026"
            ]
          },
          "metadata": {},
          "execution_count": 27
        }
      ]
    },
    {
      "cell_type": "code",
      "source": [
        "#Problem Statement :\n",
        "#On the date 17.14.11 averge likes received x and standard deviation of y recorded.A sample of 50 been taken with the mean of z. There is a claim that the average mean has not been changed. Is there enough evidence reject the claim?\n"
      ],
      "metadata": {
        "id": "yuuxohuuYhjv"
      },
      "execution_count": 23,
      "outputs": []
    },
    {
      "cell_type": "code",
      "source": [
        "#h0 : mean =x\n",
        "#h1 : mean !=x"
      ],
      "metadata": {
        "id": "ArMXgeOcdn8I"
      },
      "execution_count": 24,
      "outputs": []
    },
    {
      "cell_type": "code",
      "source": [
        "#using two tailed test\n",
        "alpha=0.05\n",
        "\n",
        "b = a\n",
        "n = 50\n",
        "std = y"
      ],
      "metadata": {
        "id": "iPUugl-DdzHt"
      },
      "execution_count": 28,
      "outputs": []
    },
    {
      "cell_type": "code",
      "source": [
        "z= (a-x)/(std/np.sqrt(n))\n",
        "z"
      ],
      "metadata": {
        "colab": {
          "base_uri": "https://localhost:8080/"
        },
        "id": "CMGk-WPqdtwB",
        "outputId": "c427d076-4e79-4379-feed-c7c473c1810b"
      },
      "execution_count": 45,
      "outputs": [
        {
          "output_type": "execute_result",
          "data": {
            "text/plain": [
              "-0.490505881304967"
            ]
          },
          "metadata": {},
          "execution_count": 45
        }
      ]
    },
    {
      "cell_type": "code",
      "source": [
        "z_critical = st.norm.ppf(alpha/2)\n",
        "z_critical"
      ],
      "metadata": {
        "colab": {
          "base_uri": "https://localhost:8080/"
        },
        "id": "-GGxpGwbes2u",
        "outputId": "f26107fb-69f5-4abd-ed91-72958035cba9"
      },
      "execution_count": 46,
      "outputs": [
        {
          "output_type": "execute_result",
          "data": {
            "text/plain": [
              "-1.9599639845400545"
            ]
          },
          "metadata": {},
          "execution_count": 46
        }
      ]
    },
    {
      "cell_type": "code",
      "source": [
        "if(z>abs(z_critical) or z<z_critical):\n",
        "  print('Rejecting Null Hypothesis')\n",
        "else:\n",
        "  print('Fail to Reject Null Hypothesis')"
      ],
      "metadata": {
        "colab": {
          "base_uri": "https://localhost:8080/"
        },
        "id": "gVlGqDA6evLH",
        "outputId": "ec2fa481-1ebe-46b2-f5d7-8d21b1b0e332"
      },
      "execution_count": 47,
      "outputs": [
        {
          "output_type": "stream",
          "name": "stdout",
          "text": [
            "Fail to Reject Null Hypothesis\n"
          ]
        }
      ]
    },
    {
      "cell_type": "code",
      "source": [
        "#T-Test"
      ],
      "metadata": {
        "id": "Nsh3F2xYe0mn"
      },
      "execution_count": null,
      "outputs": []
    },
    {
      "cell_type": "code",
      "source": [
        "x =df['likes'][df['trending_date']=='17.14.11'].mean()\n",
        "x"
      ],
      "metadata": {
        "colab": {
          "base_uri": "https://localhost:8080/"
        },
        "id": "Jf79f_4yfMNH",
        "outputId": "ce389a65-3a0e-41a0-c52d-4aa5c15dcae6"
      },
      "execution_count": 50,
      "outputs": [
        {
          "output_type": "execute_result",
          "data": {
            "text/plain": [
              "38188.175"
            ]
          },
          "metadata": {},
          "execution_count": 50
        }
      ]
    },
    {
      "cell_type": "code",
      "source": [
        "z = df['likes'][df['trending_date']=='17.14.11']\n",
        "sample = z.sample(21)\n",
        "a = sample.std()\n",
        "a"
      ],
      "metadata": {
        "colab": {
          "base_uri": "https://localhost:8080/"
        },
        "id": "gs-dW-iXfrML",
        "outputId": "a5f4ecb4-6a6b-4eb4-ec3c-46dc6e07c73a"
      },
      "execution_count": 48,
      "outputs": [
        {
          "output_type": "execute_result",
          "data": {
            "text/plain": [
              "354586.47449604364"
            ]
          },
          "metadata": {},
          "execution_count": 48
        }
      ]
    },
    {
      "cell_type": "code",
      "source": [
        "y =df['likes'][df['trending_date']=='17.14.11'].std()\n",
        "y"
      ],
      "metadata": {
        "colab": {
          "base_uri": "https://localhost:8080/"
        },
        "id": "OmeQqn3hf2v7",
        "outputId": "840e0bc0-2bd2-489d-c88b-9ab31b7461e5"
      },
      "execution_count": 49,
      "outputs": [
        {
          "output_type": "execute_result",
          "data": {
            "text/plain": [
              "143979.9233833026"
            ]
          },
          "metadata": {},
          "execution_count": 49
        }
      ]
    },
    {
      "cell_type": "code",
      "source": [
        "t= (a-x)/(std/np.sqrt(n))\n",
        "t"
      ],
      "metadata": {
        "colab": {
          "base_uri": "https://localhost:8080/"
        },
        "id": "T04vjzDpgmlI",
        "outputId": "0d421ca5-2a0b-47d9-e20f-34731109130e"
      },
      "execution_count": 51,
      "outputs": [
        {
          "output_type": "execute_result",
          "data": {
            "text/plain": [
              "15.538790261329614"
            ]
          },
          "metadata": {},
          "execution_count": 51
        }
      ]
    },
    {
      "cell_type": "code",
      "source": [
        "dof = n-1"
      ],
      "metadata": {
        "id": "StfiAOZQgQgQ"
      },
      "execution_count": 52,
      "outputs": []
    },
    {
      "cell_type": "code",
      "source": [
        "t_critical = st.t.ppf(alpha/2, dof)\n",
        "t_critical"
      ],
      "metadata": {
        "colab": {
          "base_uri": "https://localhost:8080/"
        },
        "id": "JNvqBGNYgRkz",
        "outputId": "7136a18c-faf9-4084-cdfb-7bbc11da3005"
      },
      "execution_count": 53,
      "outputs": [
        {
          "output_type": "execute_result",
          "data": {
            "text/plain": [
              "-2.0095752344892093"
            ]
          },
          "metadata": {},
          "execution_count": 53
        }
      ]
    },
    {
      "cell_type": "code",
      "source": [
        "if (t>abs(t_critical) or t<t_critical): #Right-tailed test\n",
        "    print(\"Null hypothesis cannot be rejected\")\n",
        "else:\n",
        "    print(\"Reject null hypothesis\")"
      ],
      "metadata": {
        "colab": {
          "base_uri": "https://localhost:8080/"
        },
        "id": "S_9eF8-BgVNN",
        "outputId": "f9d2c3d9-ce59-49bf-ea76-ad41b076461b"
      },
      "execution_count": 54,
      "outputs": [
        {
          "output_type": "stream",
          "name": "stdout",
          "text": [
            "Null hypothesis cannot be rejected\n"
          ]
        }
      ]
    },
    {
      "cell_type": "code",
      "source": [],
      "metadata": {
        "id": "cXnrURjphRhF"
      },
      "execution_count": null,
      "outputs": []
    }
  ]
}